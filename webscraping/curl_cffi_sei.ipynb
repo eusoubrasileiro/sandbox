{
 "cells": [
  {
   "cell_type": "markdown",
   "metadata": {},
   "source": [
    "### Simpler webscrapping no need for no-driver\n",
    "\n",
    "But if authentication was oauth2 I would probably mix no-driver with bellow"
   ]
  },
  {
   "cell_type": "code",
   "execution_count": 25,
   "metadata": {},
   "outputs": [],
   "source": [
    "from curl_cffi import requests # very fast and equivalent to requests\n",
    "from selectolax.parser import HTMLParser"
   ]
  },
  {
   "cell_type": "code",
   "execution_count": 26,
   "metadata": {},
   "outputs": [],
   "source": [
    "anm_user, anm_passwd = 'x.x', 'x@x'"
   ]
  },
  {
   "cell_type": "code",
   "execution_count": 72,
   "metadata": {},
   "outputs": [],
   "source": [
    "from urllib.parse import urlparse, parse_qs\n",
    "\n",
    "def print_query_string_params(url):\n",
    "    parsed_url = urlparse(url)\n",
    "    print(f'url {url}')\n",
    "    print(f'parsed_url, netloc {parsed_url.netloc} path {parsed_url.path}')\n",
    "    query_params = parse_qs(parsed_url.query)\n",
    "    for key, value in query_params.items():\n",
    "        print(f\"{key}: {value}\")\n",
    "\n",
    "def debug_response(response, ignore_headers=True):\n",
    "    print(\"Response Headers:\")\n",
    "    print_query_string_params(response.url)\n",
    "    if not ignore_headers:\n",
    "        for header, value in response.headers.items():\n",
    "            print(f\"{header}: {value}\")\n",
    "    with open('response.html', 'w') as f:\n",
    "        f.write(response.text)\n",
    "    return response\n"
   ]
  },
  {
   "cell_type": "markdown",
   "metadata": {},
   "source": [
    "#### Log-in"
   ]
  },
  {
   "cell_type": "code",
   "execution_count": 68,
   "metadata": {},
   "outputs": [
    {
     "name": "stdout",
     "output_type": "stream",
     "text": [
      "Response Headers:\n",
      "parsed_url, netloc sei.anm.gov.br path /sei/controlador.php\n",
      "acao: ['procedimento_controlar']\n",
      "acao_origem: ['principal']\n",
      "acao_retorno: ['principal']\n",
      "inicializando: ['1']\n",
      "infra_sistema: ['100000100']\n",
      "infra_unidade_atual: ['110000749']\n",
      "infra_hash: ['04058e515bac17baa64fa627872d0116ce3b802d652b5a8286a8a5cab16f857c']\n"
     ]
    },
    {
     "data": {
      "text/plain": [
       "<Response [200]>"
      ]
     },
     "execution_count": 68,
     "metadata": {},
     "output_type": "execute_result"
    }
   ],
   "source": [
    "url = 'https://sei.anm.gov.br/sip/login.php?sigla_orgao_sistema=ANM&sigla_sistema=SEI'\n",
    "\n",
    "session = requests.Session(impersonate='chrome120')\n",
    "session.verify='/home/andre/Documents/Controle_Areas/secorpy/sei-gov-br-chain.pem'    \n",
    "response = session.get(url)\n",
    "html = HTMLParser(response.content)\n",
    "hdntoken = html.css_first('input[type=\"hidden\"][id^=\"hdnToken\"]')\n",
    "hdntoken.attributes['value']\n",
    "response.raise_for_status()\n",
    "formdata = {\n",
    "    'txtUsuario': anm_user,\n",
    "    'pwdSenha': anm_passwd, \n",
    "    'selOrgao': '26',\n",
    "    'chkLembrar': 'on',\n",
    "    'sbmLogin': 'Acessar',\n",
    "    hdntoken.attributes['name']: hdntoken.attributes['value']\n",
    "}\n",
    "response = session.post(url, data=formdata)\n",
    "response.raise_for_status()   \n",
    "debug_response(response)"
   ]
  },
  {
   "cell_type": "markdown",
   "metadata": {},
   "source": [
    "### Get Processo"
   ]
  },
  {
   "cell_type": "code",
   "execution_count": 78,
   "metadata": {},
   "outputs": [],
   "source": [
    "html = HTMLParser(response.content)\n",
    "pesquisa = html.css_first('#frmProtocoloPesquisaRapida')\n",
    "pesquisa.attributes['action']\n",
    "formdata = { 'txtPesquisaRapida' : '48054.832390/2024-66' } \n",
    "pesquisa_url = 'https://sei.anm.gov.br/sei/' + pesquisa.attributes['action']\n",
    "response = session.post(pesquisa_url, data=formdata)"
   ]
  },
  {
   "cell_type": "code",
   "execution_count": 79,
   "metadata": {},
   "outputs": [
    {
     "name": "stdout",
     "output_type": "stream",
     "text": [
      "Response Headers:\n",
      "url https://sei.anm.gov.br/sei/controlador.php?acao=procedimento_trabalhar&acao_origem=protocolo_pesquisa_rapida&id_protocolo=16592114&infra_sistema=100000100&infra_unidade_atual=110000749&infra_hash=970e091e6c142ac916729841ba720624d17ea243a971e8c00b81b4de3485def1\n",
      "parsed_url, netloc sei.anm.gov.br path /sei/controlador.php\n",
      "acao: ['procedimento_trabalhar']\n",
      "acao_origem: ['protocolo_pesquisa_rapida']\n",
      "id_protocolo: ['16592114']\n",
      "infra_sistema: ['100000100']\n",
      "infra_unidade_atual: ['110000749']\n",
      "infra_hash: ['970e091e6c142ac916729841ba720624d17ea243a971e8c00b81b4de3485def1']\n"
     ]
    },
    {
     "data": {
      "text/plain": [
       "<Response [200]>"
      ]
     },
     "execution_count": 79,
     "metadata": {},
     "output_type": "execute_result"
    }
   ],
   "source": [
    "debug_response(response)"
   ]
  },
  {
   "cell_type": "markdown",
   "metadata": {},
   "source": [
    "### Visualizar Processo"
   ]
  },
  {
   "cell_type": "code",
   "execution_count": 77,
   "metadata": {},
   "outputs": [],
   "source": [
    "#response = session.get(response.url)"
   ]
  },
  {
   "cell_type": "code",
   "execution_count": 80,
   "metadata": {},
   "outputs": [],
   "source": [
    "html = HTMLParser(response.content)\n",
    "visualizar = html.css_first('iframe#ifrArvore')\n",
    "visualizar_url = 'https://sei.anm.gov.br/sei/' + visualizar.attributes['src']\n",
    "response = session.get(visualizar_url)"
   ]
  },
  {
   "cell_type": "code",
   "execution_count": 81,
   "metadata": {},
   "outputs": [
    {
     "name": "stdout",
     "output_type": "stream",
     "text": [
      "Response Headers:\n",
      "url https://sei.anm.gov.br/sei/controlador.php?acao=procedimento_visualizar&acao_origem=procedimento_trabalhar&acao_retorno=principal&id_procedimento=16592114&id_documento=&id_procedimento_anexado=&infra_sistema=100000100&infra_unidade_atual=110000749&infra_hash=97a74bf04c5f9ff30192766817ab590b8cf57e31649ea300622e262a3ff39fbe\n",
      "parsed_url, netloc sei.anm.gov.br path /sei/controlador.php\n",
      "acao: ['procedimento_visualizar']\n",
      "acao_origem: ['procedimento_trabalhar']\n",
      "acao_retorno: ['principal']\n",
      "id_procedimento: ['16592114']\n",
      "infra_sistema: ['100000100']\n",
      "infra_unidade_atual: ['110000749']\n",
      "infra_hash: ['97a74bf04c5f9ff30192766817ab590b8cf57e31649ea300622e262a3ff39fbe']\n"
     ]
    },
    {
     "data": {
      "text/plain": [
       "<Response [200]>"
      ]
     },
     "execution_count": 81,
     "metadata": {},
     "output_type": "execute_result"
    }
   ],
   "source": [
    "debug_response(response)"
   ]
  },
  {
   "cell_type": "code",
   "execution_count": 12,
   "metadata": {},
   "outputs": [
    {
     "name": "stdout",
     "output_type": "stream",
     "text": [
      "Headers({'Date': 'Tue, 18 Mar 2025 23:55:09 GMT', 'Server': 'Apache/2.4.6 (CentOS) OpenSSL/1.0.2k-fips PHP/5.6.33', 'X-Powered-By': 'PHP/5.6.33', 'Expires': '0', 'Cache-Control': 'private, no-cache, no-store, must-revalidate, max-age=0', 'Pragma': 'no-cache', 'X-Robots-Tag': 'noindex', 'X-XSS-Protection': '1; mode=block', 'X-Content-Type-Options': 'nosniff', 'X-Frame-Options': 'SAMEORIGIN', 'Transfer-Encoding': 'chunked', 'Content-Type': 'text/html; charset=iso-8859-1'})\n"
     ]
    }
   ],
   "source": [
    "print(response)"
   ]
  }
 ],
 "metadata": {
  "kernelspec": {
   "display_name": "Python 3",
   "language": "python",
   "name": "python3"
  },
  "language_info": {
   "codemirror_mode": {
    "name": "ipython",
    "version": 3
   },
   "file_extension": ".py",
   "mimetype": "text/x-python",
   "name": "python",
   "nbconvert_exporter": "python",
   "pygments_lexer": "ipython3",
   "version": "3.12.3"
  }
 },
 "nbformat": 4,
 "nbformat_minor": 2
}
