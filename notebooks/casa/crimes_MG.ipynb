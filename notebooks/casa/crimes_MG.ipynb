{
 "cells": [
  {
   "cell_type": "code",
   "execution_count": 1,
   "source": [
    "cd .."
   ],
   "outputs": [
    {
     "output_type": "stream",
     "name": "stdout",
     "text": [
      "c:\\Users\\andre\\Projects\\sandbox\n"
     ]
    }
   ],
   "metadata": {}
  },
  {
   "cell_type": "code",
   "execution_count": 2,
   "source": [
    "import pandas as pd\r\n",
    "import numpy as np"
   ],
   "outputs": [],
   "metadata": {}
  },
  {
   "cell_type": "code",
   "execution_count": 3,
   "source": [
    "df = pd.read_csv('Banco Crimes Violentos - Atualizado Julho 2021.csv', encoding='ansi', delimiter=';')"
   ],
   "outputs": [],
   "metadata": {}
  },
  {
   "cell_type": "code",
   "execution_count": 4,
   "source": [
    "df_reg = df[df.Registros != 0] # registro de verdade"
   ],
   "outputs": [],
   "metadata": {}
  },
  {
   "cell_type": "code",
   "execution_count": 5,
   "source": [
    "gpby_municipios = df_reg.groupby(df['Município'])"
   ],
   "outputs": [],
   "metadata": {}
  },
  {
   "cell_type": "code",
   "execution_count": 6,
   "source": [
    "regs = gpby_municipios.sum()['Registros'] # sum todos registros de crimes"
   ],
   "outputs": [],
   "metadata": {}
  },
  {
   "cell_type": "markdown",
   "source": [
    "## 20 Cidades Mais Violentas 2018-2021"
   ],
   "metadata": {}
  },
  {
   "cell_type": "code",
   "execution_count": 7,
   "source": [
    "regs.sort_values(ascending=False).head(20) # "
   ],
   "outputs": [
    {
     "output_type": "execute_result",
     "data": {
      "text/plain": [
       "Município\n",
       "BELO HORIZONTE          66709\n",
       "CONTAGEM                23852\n",
       "UBERLANDIA              10895\n",
       "BETIM                   10817\n",
       "RIBEIRAO DAS NEVES       6403\n",
       "UBERABA                  5405\n",
       "MONTES CLAROS            4354\n",
       "JUIZ DE FORA             4182\n",
       "DIVINOPOLIS              3591\n",
       "SETE LAGOAS              3482\n",
       "NOVA SERRANA             2963\n",
       "GOVERNADOR VALADARES     2944\n",
       "SANTA LUZIA              2878\n",
       "VESPASIANO               1807\n",
       "IPATINGA                 1789\n",
       "SABARA                   1706\n",
       "IBIRITE                  1655\n",
       "PARACATU                 1385\n",
       "UBA                      1335\n",
       "PASSOS                   1269\n",
       "Name: Registros, dtype: int64"
      ]
     },
     "metadata": {},
     "execution_count": 7
    }
   ],
   "metadata": {}
  },
  {
   "cell_type": "code",
   "execution_count": 8,
   "source": [
    "regs_sorted = regs.sort_values(ascending=False)\r\n",
    "regs_sorted = regs_sorted.to_frame()\r\n",
    "regs_sorted['index'] = np.arange(1, len(regs_sorted)+1) # index of position"
   ],
   "outputs": [],
   "metadata": {}
  },
  {
   "cell_type": "code",
   "execution_count": 9,
   "source": [
    "regs_sorted.head(20)"
   ],
   "outputs": [
    {
     "output_type": "execute_result",
     "data": {
      "text/html": [
       "<div>\n",
       "<style scoped>\n",
       "    .dataframe tbody tr th:only-of-type {\n",
       "        vertical-align: middle;\n",
       "    }\n",
       "\n",
       "    .dataframe tbody tr th {\n",
       "        vertical-align: top;\n",
       "    }\n",
       "\n",
       "    .dataframe thead th {\n",
       "        text-align: right;\n",
       "    }\n",
       "</style>\n",
       "<table border=\"1\" class=\"dataframe\">\n",
       "  <thead>\n",
       "    <tr style=\"text-align: right;\">\n",
       "      <th></th>\n",
       "      <th>Registros</th>\n",
       "      <th>index</th>\n",
       "    </tr>\n",
       "    <tr>\n",
       "      <th>Município</th>\n",
       "      <th></th>\n",
       "      <th></th>\n",
       "    </tr>\n",
       "  </thead>\n",
       "  <tbody>\n",
       "    <tr>\n",
       "      <th>BELO HORIZONTE</th>\n",
       "      <td>66709</td>\n",
       "      <td>1</td>\n",
       "    </tr>\n",
       "    <tr>\n",
       "      <th>CONTAGEM</th>\n",
       "      <td>23852</td>\n",
       "      <td>2</td>\n",
       "    </tr>\n",
       "    <tr>\n",
       "      <th>UBERLANDIA</th>\n",
       "      <td>10895</td>\n",
       "      <td>3</td>\n",
       "    </tr>\n",
       "    <tr>\n",
       "      <th>BETIM</th>\n",
       "      <td>10817</td>\n",
       "      <td>4</td>\n",
       "    </tr>\n",
       "    <tr>\n",
       "      <th>RIBEIRAO DAS NEVES</th>\n",
       "      <td>6403</td>\n",
       "      <td>5</td>\n",
       "    </tr>\n",
       "    <tr>\n",
       "      <th>UBERABA</th>\n",
       "      <td>5405</td>\n",
       "      <td>6</td>\n",
       "    </tr>\n",
       "    <tr>\n",
       "      <th>MONTES CLAROS</th>\n",
       "      <td>4354</td>\n",
       "      <td>7</td>\n",
       "    </tr>\n",
       "    <tr>\n",
       "      <th>JUIZ DE FORA</th>\n",
       "      <td>4182</td>\n",
       "      <td>8</td>\n",
       "    </tr>\n",
       "    <tr>\n",
       "      <th>DIVINOPOLIS</th>\n",
       "      <td>3591</td>\n",
       "      <td>9</td>\n",
       "    </tr>\n",
       "    <tr>\n",
       "      <th>SETE LAGOAS</th>\n",
       "      <td>3482</td>\n",
       "      <td>10</td>\n",
       "    </tr>\n",
       "    <tr>\n",
       "      <th>NOVA SERRANA</th>\n",
       "      <td>2963</td>\n",
       "      <td>11</td>\n",
       "    </tr>\n",
       "    <tr>\n",
       "      <th>GOVERNADOR VALADARES</th>\n",
       "      <td>2944</td>\n",
       "      <td>12</td>\n",
       "    </tr>\n",
       "    <tr>\n",
       "      <th>SANTA LUZIA</th>\n",
       "      <td>2878</td>\n",
       "      <td>13</td>\n",
       "    </tr>\n",
       "    <tr>\n",
       "      <th>VESPASIANO</th>\n",
       "      <td>1807</td>\n",
       "      <td>14</td>\n",
       "    </tr>\n",
       "    <tr>\n",
       "      <th>IPATINGA</th>\n",
       "      <td>1789</td>\n",
       "      <td>15</td>\n",
       "    </tr>\n",
       "    <tr>\n",
       "      <th>SABARA</th>\n",
       "      <td>1706</td>\n",
       "      <td>16</td>\n",
       "    </tr>\n",
       "    <tr>\n",
       "      <th>IBIRITE</th>\n",
       "      <td>1655</td>\n",
       "      <td>17</td>\n",
       "    </tr>\n",
       "    <tr>\n",
       "      <th>PARACATU</th>\n",
       "      <td>1385</td>\n",
       "      <td>18</td>\n",
       "    </tr>\n",
       "    <tr>\n",
       "      <th>UBA</th>\n",
       "      <td>1335</td>\n",
       "      <td>19</td>\n",
       "    </tr>\n",
       "    <tr>\n",
       "      <th>PASSOS</th>\n",
       "      <td>1269</td>\n",
       "      <td>20</td>\n",
       "    </tr>\n",
       "  </tbody>\n",
       "</table>\n",
       "</div>"
      ],
      "text/plain": [
       "                      Registros  index\n",
       "Município                             \n",
       "BELO HORIZONTE            66709      1\n",
       "CONTAGEM                  23852      2\n",
       "UBERLANDIA                10895      3\n",
       "BETIM                     10817      4\n",
       "RIBEIRAO DAS NEVES         6403      5\n",
       "UBERABA                    5405      6\n",
       "MONTES CLAROS              4354      7\n",
       "JUIZ DE FORA               4182      8\n",
       "DIVINOPOLIS                3591      9\n",
       "SETE LAGOAS                3482     10\n",
       "NOVA SERRANA               2963     11\n",
       "GOVERNADOR VALADARES       2944     12\n",
       "SANTA LUZIA                2878     13\n",
       "VESPASIANO                 1807     14\n",
       "IPATINGA                   1789     15\n",
       "SABARA                     1706     16\n",
       "IBIRITE                    1655     17\n",
       "PARACATU                   1385     18\n",
       "UBA                        1335     19\n",
       "PASSOS                     1269     20"
      ]
     },
     "metadata": {},
     "execution_count": 9
    }
   ],
   "metadata": {}
  },
  {
   "cell_type": "code",
   "execution_count": 10,
   "source": [
    "regs_sorted.loc['SAO JOSE DA LAPA']"
   ],
   "outputs": [
    {
     "output_type": "execute_result",
     "data": {
      "text/plain": [
       "Registros    282\n",
       "index         87\n",
       "Name: SAO JOSE DA LAPA, dtype: int64"
      ]
     },
     "metadata": {},
     "execution_count": 10
    }
   ],
   "metadata": {}
  },
  {
   "cell_type": "code",
   "execution_count": 11,
   "source": [
    "regs_sorted.loc['CAPIM BRANCO']"
   ],
   "outputs": [
    {
     "output_type": "execute_result",
     "data": {
      "text/plain": [
       "Registros     94\n",
       "index        189\n",
       "Name: CAPIM BRANCO, dtype: int64"
      ]
     },
     "metadata": {},
     "execution_count": 11
    }
   ],
   "metadata": {}
  },
  {
   "cell_type": "code",
   "execution_count": 12,
   "source": [
    "regs_sorted.loc['MATOZINHOS']"
   ],
   "outputs": [
    {
     "output_type": "execute_result",
     "data": {
      "text/plain": [
       "Registros    507\n",
       "index         56\n",
       "Name: MATOZINHOS, dtype: int64"
      ]
     },
     "metadata": {},
     "execution_count": 12
    }
   ],
   "metadata": {}
  },
  {
   "cell_type": "code",
   "execution_count": 13,
   "source": [
    "regs_sorted.loc['LAGOA SANTA']"
   ],
   "outputs": [
    {
     "output_type": "execute_result",
     "data": {
      "text/plain": [
       "Registros    611\n",
       "index         49\n",
       "Name: LAGOA SANTA, dtype: int64"
      ]
     },
     "metadata": {},
     "execution_count": 13
    }
   ],
   "metadata": {}
  },
  {
   "cell_type": "code",
   "execution_count": 14,
   "source": [
    "regs_sorted.loc['PEDRO LEOPOLDO']"
   ],
   "outputs": [
    {
     "output_type": "execute_result",
     "data": {
      "text/plain": [
       "Registros    914\n",
       "index         29\n",
       "Name: PEDRO LEOPOLDO, dtype: int64"
      ]
     },
     "metadata": {},
     "execution_count": 14
    }
   ],
   "metadata": {}
  },
  {
   "cell_type": "code",
   "execution_count": 15,
   "source": [
    "regs_sorted.loc['CONFINS']"
   ],
   "outputs": [
    {
     "output_type": "execute_result",
     "data": {
      "text/plain": [
       "Registros     92\n",
       "index        195\n",
       "Name: CONFINS, dtype: int64"
      ]
     },
     "metadata": {},
     "execution_count": 15
    }
   ],
   "metadata": {}
  },
  {
   "cell_type": "code",
   "execution_count": 16,
   "source": [
    "regs_sorted.loc['ITABIRA']"
   ],
   "outputs": [
    {
     "output_type": "execute_result",
     "data": {
      "text/plain": [
       "Registros    995\n",
       "index         22\n",
       "Name: ITABIRA, dtype: int64"
      ]
     },
     "metadata": {},
     "execution_count": 16
    }
   ],
   "metadata": {}
  },
  {
   "cell_type": "code",
   "execution_count": 17,
   "source": [
    "regs_sorted.loc['JOAO MONLEVADE']"
   ],
   "outputs": [
    {
     "output_type": "execute_result",
     "data": {
      "text/plain": [
       "Registros    725\n",
       "index         42\n",
       "Name: JOAO MONLEVADE, dtype: int64"
      ]
     },
     "metadata": {},
     "execution_count": 17
    }
   ],
   "metadata": {}
  },
  {
   "cell_type": "code",
   "execution_count": 18,
   "source": [
    "len(regs_sorted)"
   ],
   "outputs": [
    {
     "output_type": "execute_result",
     "data": {
      "text/plain": [
       "852"
      ]
     },
     "metadata": {},
     "execution_count": 18
    }
   ],
   "metadata": {}
  },
  {
   "cell_type": "code",
   "execution_count": null,
   "source": [],
   "outputs": [],
   "metadata": {}
  }
 ],
 "metadata": {
  "kernelspec": {
   "name": "python3",
   "display_name": "Python 3.8.10 64-bit ('base': conda)"
  },
  "language_info": {
   "codemirror_mode": {
    "name": "ipython",
    "version": 3
   },
   "file_extension": ".py",
   "mimetype": "text/x-python",
   "name": "python",
   "nbconvert_exporter": "python",
   "pygments_lexer": "ipython3",
   "version": "3.8.10"
  },
  "interpreter": {
   "hash": "3be4393fbdaea0d3e38eb40ac2d5883d2125b4b1de2024ee4d550ff09fb43fc4"
  }
 },
 "nbformat": 4,
 "nbformat_minor": 2
}