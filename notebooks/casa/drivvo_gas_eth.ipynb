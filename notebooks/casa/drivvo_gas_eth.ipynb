{
 "cells": [
  {
   "cell_type": "code",
   "execution_count": 34,
   "metadata": {},
   "outputs": [],
   "source": [
    "import pandas as pd\n",
    "from matplotlib import pylab as plt\n",
    "import numpy as np"
   ]
  },
  {
   "cell_type": "code",
   "execution_count": 3,
   "metadata": {},
   "outputs": [
    {
     "name": "stdout",
     "output_type": "stream",
     "text": [
      "C:\\Users\\andre\\Projects\\sandbox\n"
     ]
    }
   ],
   "source": [
    "cd sandbox"
   ]
  },
  {
   "cell_type": "code",
   "execution_count": 14,
   "metadata": {},
   "outputs": [],
   "source": [
    "df = pd.read_csv('20201015_152720_DRIVVO.csv', skiprows=1)"
   ]
  },
  {
   "cell_type": "code",
   "execution_count": 16,
   "metadata": {},
   "outputs": [
    {
     "data": {
      "text/plain": [
       "Index(['Odometer (km)', 'Date', 'Fuel', 'Price / L', 'Total cost', 'Volume',\n",
       "       'Filled tank completely', 'Second fuel', 'Price / L.1', 'Total cost.1',\n",
       "       'Volume.1', 'Filled tank completely 2', 'Third fuel', 'Price / L.2',\n",
       "       'Total cost.2', 'Volume.2', 'Filled tank completely 3',\n",
       "       'Fuel efficiency', 'Gas station', 'Reason', 'Notes'],\n",
       "      dtype='object')"
      ]
     },
     "execution_count": 16,
     "metadata": {},
     "output_type": "execute_result"
    }
   ],
   "source": [
    "df.columns"
   ]
  },
  {
   "cell_type": "code",
   "execution_count": 18,
   "metadata": {},
   "outputs": [],
   "source": [
    "df = df[['Fuel','Fuel efficiency']]"
   ]
  },
  {
   "cell_type": "code",
   "execution_count": 88,
   "metadata": {},
   "outputs": [
    {
     "data": {
      "text/html": [
       "<div>\n",
       "<style scoped>\n",
       "    .dataframe tbody tr th:only-of-type {\n",
       "        vertical-align: middle;\n",
       "    }\n",
       "\n",
       "    .dataframe tbody tr th {\n",
       "        vertical-align: top;\n",
       "    }\n",
       "\n",
       "    .dataframe thead th {\n",
       "        text-align: right;\n",
       "    }\n",
       "</style>\n",
       "<table border=\"1\" class=\"dataframe\">\n",
       "  <thead>\n",
       "    <tr style=\"text-align: right;\">\n",
       "      <th></th>\n",
       "      <th>Fuel</th>\n",
       "      <th>Fuel efficiency</th>\n",
       "    </tr>\n",
       "  </thead>\n",
       "  <tbody>\n",
       "    <tr>\n",
       "      <th>0</th>\n",
       "      <td>Ethanol</td>\n",
       "      <td>10.202 km/L</td>\n",
       "    </tr>\n",
       "    <tr>\n",
       "      <th>1</th>\n",
       "      <td>Gasoline</td>\n",
       "      <td>8.255 km/L</td>\n",
       "    </tr>\n",
       "    <tr>\n",
       "      <th>2</th>\n",
       "      <td>Gasoline</td>\n",
       "      <td>9.087 km/L</td>\n",
       "    </tr>\n",
       "    <tr>\n",
       "      <th>3</th>\n",
       "      <td>Gasoline</td>\n",
       "      <td>6.95 km/L</td>\n",
       "    </tr>\n",
       "    <tr>\n",
       "      <th>4</th>\n",
       "      <td>Ethanol</td>\n",
       "      <td>7.264 km/L</td>\n",
       "    </tr>\n",
       "    <tr>\n",
       "      <th>5</th>\n",
       "      <td>Ethanol</td>\n",
       "      <td>7.264 km/L</td>\n",
       "    </tr>\n",
       "    <tr>\n",
       "      <th>6</th>\n",
       "      <td>Ethanol</td>\n",
       "      <td>0.412 km/L</td>\n",
       "    </tr>\n",
       "    <tr>\n",
       "      <th>7</th>\n",
       "      <td>Gasoline</td>\n",
       "      <td>32.271 km/L</td>\n",
       "    </tr>\n",
       "    <tr>\n",
       "      <th>8</th>\n",
       "      <td>Ethanol</td>\n",
       "      <td>9.023 km/L</td>\n",
       "    </tr>\n",
       "    <tr>\n",
       "      <th>9</th>\n",
       "      <td>Ethanol</td>\n",
       "      <td>7.655 km/L</td>\n",
       "    </tr>\n",
       "    <tr>\n",
       "      <th>10</th>\n",
       "      <td>Ethanol</td>\n",
       "      <td>9.341 km/L</td>\n",
       "    </tr>\n",
       "    <tr>\n",
       "      <th>11</th>\n",
       "      <td>Gasoline</td>\n",
       "      <td>7.981 km/L</td>\n",
       "    </tr>\n",
       "    <tr>\n",
       "      <th>12</th>\n",
       "      <td>Ethanol</td>\n",
       "      <td>7.8 km/L</td>\n",
       "    </tr>\n",
       "    <tr>\n",
       "      <th>13</th>\n",
       "      <td>Ethanol</td>\n",
       "      <td>8.765 km/L</td>\n",
       "    </tr>\n",
       "    <tr>\n",
       "      <th>14</th>\n",
       "      <td>Ethanol</td>\n",
       "      <td>9.187 km/L</td>\n",
       "    </tr>\n",
       "    <tr>\n",
       "      <th>15</th>\n",
       "      <td>Gasoline</td>\n",
       "      <td>10.94 km/L</td>\n",
       "    </tr>\n",
       "    <tr>\n",
       "      <th>16</th>\n",
       "      <td>Gasoline</td>\n",
       "      <td>0 km/L</td>\n",
       "    </tr>\n",
       "    <tr>\n",
       "      <th>17</th>\n",
       "      <td>Ethanol</td>\n",
       "      <td>7.318 km/L</td>\n",
       "    </tr>\n",
       "    <tr>\n",
       "      <th>18</th>\n",
       "      <td>Ethanol</td>\n",
       "      <td>0 km/L</td>\n",
       "    </tr>\n",
       "    <tr>\n",
       "      <th>19</th>\n",
       "      <td>Ethanol</td>\n",
       "      <td>6.483 km/L</td>\n",
       "    </tr>\n",
       "    <tr>\n",
       "      <th>20</th>\n",
       "      <td>Ethanol</td>\n",
       "      <td>7.715 km/L</td>\n",
       "    </tr>\n",
       "    <tr>\n",
       "      <th>21</th>\n",
       "      <td>Ethanol</td>\n",
       "      <td>7.462 km/L</td>\n",
       "    </tr>\n",
       "    <tr>\n",
       "      <th>22</th>\n",
       "      <td>Ethanol</td>\n",
       "      <td>9.365 km/L</td>\n",
       "    </tr>\n",
       "    <tr>\n",
       "      <th>23</th>\n",
       "      <td>Gasoline</td>\n",
       "      <td>7.395 km/L</td>\n",
       "    </tr>\n",
       "    <tr>\n",
       "      <th>24</th>\n",
       "      <td>Gasoline</td>\n",
       "      <td>7.395 km/L</td>\n",
       "    </tr>\n",
       "    <tr>\n",
       "      <th>25</th>\n",
       "      <td>Ethanol</td>\n",
       "      <td>9.429 km/L</td>\n",
       "    </tr>\n",
       "    <tr>\n",
       "      <th>26</th>\n",
       "      <td>Gasoline</td>\n",
       "      <td>9.11 km/L</td>\n",
       "    </tr>\n",
       "    <tr>\n",
       "      <th>27</th>\n",
       "      <td>Gasoline</td>\n",
       "      <td>7.346 km/L</td>\n",
       "    </tr>\n",
       "    <tr>\n",
       "      <th>28</th>\n",
       "      <td>Ethanol</td>\n",
       "      <td>6.517 km/L</td>\n",
       "    </tr>\n",
       "    <tr>\n",
       "      <th>29</th>\n",
       "      <td>Ethanol</td>\n",
       "      <td>6.279 km/L</td>\n",
       "    </tr>\n",
       "    <tr>\n",
       "      <th>30</th>\n",
       "      <td>Ethanol</td>\n",
       "      <td>7.486 km/L</td>\n",
       "    </tr>\n",
       "    <tr>\n",
       "      <th>31</th>\n",
       "      <td>Ethanol</td>\n",
       "      <td>7.215 km/L</td>\n",
       "    </tr>\n",
       "    <tr>\n",
       "      <th>32</th>\n",
       "      <td>Ethanol</td>\n",
       "      <td>5.851 km/L</td>\n",
       "    </tr>\n",
       "    <tr>\n",
       "      <th>33</th>\n",
       "      <td>Ethanol</td>\n",
       "      <td>8.125 km/L</td>\n",
       "    </tr>\n",
       "    <tr>\n",
       "      <th>34</th>\n",
       "      <td>Ethanol</td>\n",
       "      <td>10.502 km/L</td>\n",
       "    </tr>\n",
       "    <tr>\n",
       "      <th>35</th>\n",
       "      <td>Gasoline</td>\n",
       "      <td>9.871 km/L</td>\n",
       "    </tr>\n",
       "    <tr>\n",
       "      <th>36</th>\n",
       "      <td>Gasoline</td>\n",
       "      <td>7.536 km/L</td>\n",
       "    </tr>\n",
       "    <tr>\n",
       "      <th>37</th>\n",
       "      <td>Ethanol</td>\n",
       "      <td>7.203 km/L</td>\n",
       "    </tr>\n",
       "    <tr>\n",
       "      <th>38</th>\n",
       "      <td>Ethanol</td>\n",
       "      <td>8.943 km/L</td>\n",
       "    </tr>\n",
       "    <tr>\n",
       "      <th>39</th>\n",
       "      <td>Ethanol</td>\n",
       "      <td>8.66 km/L</td>\n",
       "    </tr>\n",
       "    <tr>\n",
       "      <th>40</th>\n",
       "      <td>Gasoline</td>\n",
       "      <td>10.155 km/L</td>\n",
       "    </tr>\n",
       "    <tr>\n",
       "      <th>41</th>\n",
       "      <td>Gasoline</td>\n",
       "      <td>10.237 km/L</td>\n",
       "    </tr>\n",
       "    <tr>\n",
       "      <th>42</th>\n",
       "      <td>Gasoline</td>\n",
       "      <td>10.329 km/L</td>\n",
       "    </tr>\n",
       "    <tr>\n",
       "      <th>43</th>\n",
       "      <td>Gasoline</td>\n",
       "      <td>10.628 km/L</td>\n",
       "    </tr>\n",
       "    <tr>\n",
       "      <th>44</th>\n",
       "      <td>Gasoline</td>\n",
       "      <td>0 km/L</td>\n",
       "    </tr>\n",
       "    <tr>\n",
       "      <th>45</th>\n",
       "      <td>NaN</td>\n",
       "      <td>NaN</td>\n",
       "    </tr>\n",
       "    <tr>\n",
       "      <th>46</th>\n",
       "      <td>Total cost</td>\n",
       "      <td>NaN</td>\n",
       "    </tr>\n",
       "    <tr>\n",
       "      <th>47</th>\n",
       "      <td>55</td>\n",
       "      <td>NaN</td>\n",
       "    </tr>\n",
       "    <tr>\n",
       "      <th>48</th>\n",
       "      <td>NaN</td>\n",
       "      <td>NaN</td>\n",
       "    </tr>\n",
       "    <tr>\n",
       "      <th>49</th>\n",
       "      <td>Total cost</td>\n",
       "      <td>NaN</td>\n",
       "    </tr>\n",
       "    <tr>\n",
       "      <th>50</th>\n",
       "      <td>75</td>\n",
       "      <td>NaN</td>\n",
       "    </tr>\n",
       "    <tr>\n",
       "      <th>51</th>\n",
       "      <td>146</td>\n",
       "      <td>NaN</td>\n",
       "    </tr>\n",
       "    <tr>\n",
       "      <th>52</th>\n",
       "      <td>160</td>\n",
       "      <td>NaN</td>\n",
       "    </tr>\n",
       "    <tr>\n",
       "      <th>53</th>\n",
       "      <td>20</td>\n",
       "      <td>NaN</td>\n",
       "    </tr>\n",
       "    <tr>\n",
       "      <th>54</th>\n",
       "      <td>1200</td>\n",
       "      <td>NaN</td>\n",
       "    </tr>\n",
       "  </tbody>\n",
       "</table>\n",
       "</div>"
      ],
      "text/plain": [
       "          Fuel Fuel efficiency\n",
       "0      Ethanol     10.202 km/L\n",
       "1     Gasoline      8.255 km/L\n",
       "2     Gasoline      9.087 km/L\n",
       "3     Gasoline       6.95 km/L\n",
       "4      Ethanol      7.264 km/L\n",
       "5      Ethanol      7.264 km/L\n",
       "6      Ethanol      0.412 km/L\n",
       "7     Gasoline     32.271 km/L\n",
       "8      Ethanol      9.023 km/L\n",
       "9      Ethanol      7.655 km/L\n",
       "10     Ethanol      9.341 km/L\n",
       "11    Gasoline      7.981 km/L\n",
       "12     Ethanol        7.8 km/L\n",
       "13     Ethanol      8.765 km/L\n",
       "14     Ethanol      9.187 km/L\n",
       "15    Gasoline      10.94 km/L\n",
       "16    Gasoline          0 km/L\n",
       "17     Ethanol      7.318 km/L\n",
       "18     Ethanol          0 km/L\n",
       "19     Ethanol      6.483 km/L\n",
       "20     Ethanol      7.715 km/L\n",
       "21     Ethanol      7.462 km/L\n",
       "22     Ethanol      9.365 km/L\n",
       "23    Gasoline      7.395 km/L\n",
       "24    Gasoline      7.395 km/L\n",
       "25     Ethanol      9.429 km/L\n",
       "26    Gasoline       9.11 km/L\n",
       "27    Gasoline      7.346 km/L\n",
       "28     Ethanol      6.517 km/L\n",
       "29     Ethanol      6.279 km/L\n",
       "30     Ethanol      7.486 km/L\n",
       "31     Ethanol      7.215 km/L\n",
       "32     Ethanol      5.851 km/L\n",
       "33     Ethanol      8.125 km/L\n",
       "34     Ethanol     10.502 km/L\n",
       "35    Gasoline      9.871 km/L\n",
       "36    Gasoline      7.536 km/L\n",
       "37     Ethanol      7.203 km/L\n",
       "38     Ethanol      8.943 km/L\n",
       "39     Ethanol       8.66 km/L\n",
       "40    Gasoline     10.155 km/L\n",
       "41    Gasoline     10.237 km/L\n",
       "42    Gasoline     10.329 km/L\n",
       "43    Gasoline     10.628 km/L\n",
       "44    Gasoline          0 km/L\n",
       "45         NaN             NaN\n",
       "46  Total cost             NaN\n",
       "47          55             NaN\n",
       "48         NaN             NaN\n",
       "49  Total cost             NaN\n",
       "50          75             NaN\n",
       "51         146             NaN\n",
       "52         160             NaN\n",
       "53          20             NaN\n",
       "54        1200             NaN"
      ]
     },
     "execution_count": 88,
     "metadata": {},
     "output_type": "execute_result"
    }
   ],
   "source": [
    "df"
   ]
  },
  {
   "cell_type": "code",
   "execution_count": 89,
   "metadata": {},
   "outputs": [],
   "source": [
    "df = df.drop(df.index[[0, 3, 8, 9, 10, 11, 12, 14, 22, 23, 24, 27, 36]])"
   ]
  },
  {
   "cell_type": "code",
   "execution_count": 90,
   "metadata": {},
   "outputs": [],
   "source": [
    "gas = df[df.Fuel == 'Gasoline']['Fuel efficiency'].values"
   ]
  },
  {
   "cell_type": "code",
   "execution_count": 91,
   "metadata": {},
   "outputs": [],
   "source": [
    "gas = [float(v[:-4]) for v in gas]"
   ]
  },
  {
   "cell_type": "code",
   "execution_count": 92,
   "metadata": {},
   "outputs": [],
   "source": [
    "gas = np.array(gas)"
   ]
  },
  {
   "cell_type": "code",
   "execution_count": 93,
   "metadata": {},
   "outputs": [],
   "source": [
    "gas = gas [ gas >  1 ]"
   ]
  },
  {
   "cell_type": "code",
   "execution_count": 94,
   "metadata": {},
   "outputs": [],
   "source": [
    "gas =  gas [ gas < 30]"
   ]
  },
  {
   "cell_type": "code",
   "execution_count": 95,
   "metadata": {},
   "outputs": [
    {
     "data": {
      "text/plain": [
       "array([ 8.255,  9.087, 10.94 ,  9.11 ,  9.871, 10.155, 10.237, 10.329,\n",
       "       10.628])"
      ]
     },
     "execution_count": 95,
     "metadata": {},
     "output_type": "execute_result"
    }
   ],
   "source": [
    "gas"
   ]
  },
  {
   "cell_type": "code",
   "execution_count": 96,
   "metadata": {
    "scrolled": true
   },
   "outputs": [
    {
     "data": {
      "text/plain": [
       "9.845777777777776"
      ]
     },
     "execution_count": 96,
     "metadata": {},
     "output_type": "execute_result"
    }
   ],
   "source": [
    "np.mean(gas)"
   ]
  },
  {
   "cell_type": "code",
   "execution_count": 97,
   "metadata": {},
   "outputs": [
    {
     "data": {
      "image/png": "[encoded data removed]",
      "text/plain": [
       "<Figure size 432x288 with 1 Axes>"
      ]
     },
     "metadata": {
      "needs_background": "light"
     },
     "output_type": "display_data"
    }
   ],
   "source": [
    "plt.hist(gas, bins=10);"
   ]
  },
  {
   "cell_type": "code",
   "execution_count": 98,
   "metadata": {},
   "outputs": [],
   "source": [
    "eth = df[df.Fuel == 'Ethanol']['Fuel efficiency'].values"
   ]
  },
  {
   "cell_type": "code",
   "execution_count": 99,
   "metadata": {},
   "outputs": [],
   "source": [
    "eth = [float(v[:-4]) for v in eth]"
   ]
  },
  {
   "cell_type": "code",
   "execution_count": 100,
   "metadata": {},
   "outputs": [],
   "source": [
    "eth = np.array(eth)"
   ]
  },
  {
   "cell_type": "code",
   "execution_count": 101,
   "metadata": {},
   "outputs": [],
   "source": [
    "eth = eth [ eth >  1 ]"
   ]
  },
  {
   "cell_type": "code",
   "execution_count": 102,
   "metadata": {},
   "outputs": [],
   "source": [
    "eth =  eth [ eth < 30]"
   ]
  },
  {
   "cell_type": "code",
   "execution_count": 103,
   "metadata": {},
   "outputs": [
    {
     "data": {
      "text/plain": [
       "array([ 7.264,  7.264,  8.765,  7.318,  6.483,  7.715,  7.462,  9.429,\n",
       "        6.517,  6.279,  7.486,  7.215,  5.851,  8.125, 10.502,  7.203,\n",
       "        8.943,  8.66 ])"
      ]
     },
     "execution_count": 103,
     "metadata": {},
     "output_type": "execute_result"
    }
   ],
   "source": [
    "eth"
   ]
  },
  {
   "cell_type": "code",
   "execution_count": 104,
   "metadata": {
    "scrolled": true
   },
   "outputs": [
    {
     "data": {
      "text/plain": [
       "7.693388888888888"
      ]
     },
     "execution_count": 104,
     "metadata": {},
     "output_type": "execute_result"
    }
   ],
   "source": [
    "np.mean(eth)"
   ]
  },
  {
   "cell_type": "code",
   "execution_count": 105,
   "metadata": {},
   "outputs": [
    {
     "data": {
      "image/png": "[encoded data removed]",
      "text/plain": [
       "<Figure size 432x288 with 1 Axes>"
      ]
     },
     "metadata": {
      "needs_background": "light"
     },
     "output_type": "display_data"
    }
   ],
   "source": [
    "plt.hist(eth, bins=10);"
   ]
  },
  {
   "cell_type": "code",
   "execution_count": 106,
   "metadata": {},
   "outputs": [],
   "source": [
    "p50eth = np.percentile(eth, [50])[0]"
   ]
  },
  {
   "cell_type": "code",
   "execution_count": 107,
   "metadata": {},
   "outputs": [],
   "source": [
    "p10eth = np.percentile(eth, [10])[0]"
   ]
  },
  {
   "cell_type": "code",
   "execution_count": 108,
   "metadata": {},
   "outputs": [],
   "source": [
    "p50gas = np.percentile(gas, [50])[0]"
   ]
  },
  {
   "cell_type": "code",
   "execution_count": 109,
   "metadata": {},
   "outputs": [],
   "source": [
    "p10gas = np.percentile(gas, [10])[0]"
   ]
  },
  {
   "cell_type": "code",
   "execution_count": 110,
   "metadata": {},
   "outputs": [
    {
     "data": {
      "text/plain": [
       "0.7277203348104382"
      ]
     },
     "execution_count": 110,
     "metadata": {},
     "output_type": "execute_result"
    }
   ],
   "source": [
    "p50eth/p50gas"
   ]
  },
  {
   "cell_type": "code",
   "execution_count": 111,
   "metadata": {},
   "outputs": [
    {
     "data": {
      "text/plain": [
       "0.7198843127143914"
      ]
     },
     "execution_count": 111,
     "metadata": {},
     "output_type": "execute_result"
    }
   ],
   "source": [
    "p10eth/p10gas"
   ]
  },
  {
   "cell_type": "code",
   "execution_count": null,
   "metadata": {},
   "outputs": [],
   "source": []
  }
 ],
 "metadata": {
  "kernelspec": {
   "display_name": "Python 3",
   "language": "python",
   "name": "python3"
  },
  "language_info": {
   "codemirror_mode": {
    "name": "ipython",
    "version": 3
   },
   "file_extension": ".py",
   "mimetype": "text/x-python",
   "name": "python",
   "nbconvert_exporter": "python",
   "pygments_lexer": "ipython3",
   "version": "3.7.9"
  }
 },
 "nbformat": 4,
 "nbformat_minor": 4
}
