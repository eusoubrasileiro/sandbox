{
 "cells": [
  {
   "attachments": {},
   "cell_type": "markdown",
   "metadata": {},
   "source": [
    "### Playing with transformers library from Hugging Face : Bible Summarization"
   ]
  },
  {
   "attachments": {},
   "cell_type": "markdown",
   "metadata": {},
   "source": [
    "#### Simpler approach using facebook bart-large-cnn for sentence summarization\n",
    "\n",
    "Testing bbc.uk news on Ukraine war"
   ]
  },
  {
   "cell_type": "code",
   "execution_count": 1,
   "metadata": {},
   "outputs": [],
   "source": [
    "TEXT = \"\"\"Thirteen-year-old Nika Selivanova made a heart shape with both her hands, waving goodbye to her best friend Inna who was pressed up against the glass partition that divided the entrance hall of Kherson's train station from the waiting area. Moments earlier, they'd hugged, tears welling up in their eyes. Inna had kissed Asia, a tan dachshund dog wrapped up in a warm blanket, carried by Nika in her arms. The girls didn't know when they might see each other again. Nika's family was leaving Kherson, not sure of where they would end up eventually. For now, they were heading to the western city of Khmelnytskyi, hoping they would get some help there. The past few days in Kherson had simply been too much for Nika's mother Elena. \"Before, they [Russian forces] shelled us seven to 10 times a day, now it's 70-80 times, all day long. It's too scary.\" Elena said. \"I love Ukraine and my dear city. But we have to go.\" Elena and her three daughters are among more than 400 people who have left Kherson since Christmas Day, after a sharp increase in the intensity of the bombardment of the city by the Russian military. On Tuesday, a hospital maternity ward was shelled. No-one was hurt but it has further escalated fear among people. Elena left by train, in an evacuation facilitated by the Ukrainian government.Hundreds of people are leaving on their own, a queue of cars building up at the checkpoint leading out of Kherson, filled with terrified civilians. Iryna Antonenko was in tears when we walked up to her car to speak to her. 'We can't take it anymore. The shelling is so intense. We stayed this whole time and thought it would pass and that we would be lucky. But a strike hit the house next to ours, and my father's home was also shelled,\" she said. She planned to travel to Kryvyi Rih, a city in central Ukraine where she has family.Just last month, there had been jubilant scenes in Kherson. Taken by Russian forces on the second day of the invasion, the city was liberated on 11 November. Close to the spot where masses had gathered waving Ukrainian flags to celebrate being freed from Russian control, a mortar attack on Christmas Eve left eleven dead, and dozens injured. Among the dead were a social worker, a butcher and a woman selling mobile Sim cards - ordinary people working at or visiting the city's central market. That day, Kherson was hit by mortars 41 times, according to the Ukrainian government. The Russians are firing from the left (east) bank of the Dnipro river, where they withdrew to; the waterway has become a de facto frontline in the south of Ukraine.\"\"\""
   ]
  },
  {
   "cell_type": "code",
   "execution_count": 2,
   "metadata": {},
   "outputs": [
    {
     "name": "stderr",
     "output_type": "stream",
     "text": [
      "/home/andre/venv/lib/python3.10/site-packages/tqdm/auto.py:22: TqdmWarning: IProgress not found. Please update jupyter and ipywidgets. See https://ipywidgets.readthedocs.io/en/stable/user_install.html\n",
      "  from .autonotebook import tqdm as notebook_tqdm\n"
     ]
    }
   ],
   "source": [
    "from transformers import pipeline\n",
    "summarizer = pipeline(\"summarization\", model=\"facebook/bart-large-cnn\", device=0)"
   ]
  },
  {
   "cell_type": "code",
   "execution_count": 3,
   "metadata": {},
   "outputs": [
    {
     "name": "stderr",
     "output_type": "stream",
     "text": [
      "Your max_length is set to 1000, but you input_length is only 589. You might consider decreasing max_length manually, e.g. summarizer('...', max_length=294)\n"
     ]
    },
    {
     "name": "stdout",
     "output_type": "stream",
     "text": [
      "[{'summary_text': 'More than 400 people have left Kherson since Christmas Day, after a sharp increase in the intensity of the bombardment of the city by the Russian military. On Tuesday, a hospital maternity ward was shelled. The Russians are firing from the left (east) bank of the Dnipro river, where they withdrew to.'}]\n"
     ]
    }
   ],
   "source": [
    "print(summarizer(TEXT, max_length=1000, min_length=10, do_sample=False))\n"
   ]
  },
  {
   "attachments": {},
   "cell_type": "markdown",
   "metadata": {},
   "source": [
    "Model has a limitation of maximum 1024 tokens (words, setences etc...) as inputs.\n"
   ]
  },
  {
   "attachments": {},
   "cell_type": "markdown",
   "metadata": {},
   "source": [
    "### Bible summarization"
   ]
  },
  {
   "cell_type": "code",
   "execution_count": 6,
   "metadata": {},
   "outputs": [],
   "source": [
    "# lets left king james version due its archaic vacabulary\n",
    "# bible_kjv_sents = None\n",
    "# with open('American_King_James_Version_Only_Sentences.txt', 'r') as file:\n",
    "#     bible_kjv_sents = file.read()\n",
    "# bible_sents = bible_kjv_sents.split('\\n')"
   ]
  },
  {
   "cell_type": "code",
   "execution_count": 8,
   "metadata": {},
   "outputs": [],
   "source": [
    "import pandas as pd"
   ]
  },
  {
   "cell_type": "code",
   "execution_count": 9,
   "metadata": {},
   "outputs": [],
   "source": [
    "bible = pd.read_csv('/media/andre/LxData/bible-corpus/t_web.csv')\n",
    "bible = bible[['b', 'c', 'v', 't']]"
   ]
  },
  {
   "attachments": {},
   "cell_type": "markdown",
   "metadata": {},
   "source": [
    "#### 1. Word tokenize for summarization \n",
    "\n",
    "I don't want a summary based only on sentences (sentence tokenization).  \n",
    "I want a deeper approach based on the words and its relation.  \n",
    "\n",
    "Let's use a pretained tonenizer bert"
   ]
  },
  {
   "cell_type": "code",
   "execution_count": 10,
   "metadata": {},
   "outputs": [],
   "source": [
    "from transformers import BartTokenizer, BartForConditionalGeneration\n",
    "import torch\n",
    "\n",
    "model = BartForConditionalGeneration.from_pretrained('facebook/bart-large-cnn')\n",
    "tokenizer = BartTokenizer.from_pretrained('facebook/bart-large-cnn')\n",
    "\n",
    "cuda = torch.device('cuda')\n",
    "model = model.to(cuda)"
   ]
  },
  {
   "cell_type": "code",
   "execution_count": 11,
   "metadata": {},
   "outputs": [],
   "source": [
    "bible['wcount'] = bible.t.apply(lambda x: len(x.split(' ')))"
   ]
  },
  {
   "cell_type": "code",
   "execution_count": 12,
   "metadata": {},
   "outputs": [
    {
     "name": "stderr",
     "output_type": "stream",
     "text": [
      "/tmp/ipykernel_5524/569024042.py:1: FutureWarning: The default value of numeric_only in DataFrameGroupBy.sum is deprecated. In a future version, numeric_only will default to False. Either specify numeric_only or select only columns which should be valid for the function.\n",
      "  bible.query('b == 42').groupby(bible.c).sum()\n"
     ]
    },
    {
     "data": {
      "text/html": [
       "<div>\n",
       "<style scoped>\n",
       "    .dataframe tbody tr th:only-of-type {\n",
       "        vertical-align: middle;\n",
       "    }\n",
       "\n",
       "    .dataframe tbody tr th {\n",
       "        vertical-align: top;\n",
       "    }\n",
       "\n",
       "    .dataframe thead th {\n",
       "        text-align: right;\n",
       "    }\n",
       "</style>\n",
       "<table border=\"1\" class=\"dataframe\">\n",
       "  <thead>\n",
       "    <tr style=\"text-align: right;\">\n",
       "      <th></th>\n",
       "      <th>b</th>\n",
       "      <th>c</th>\n",
       "      <th>v</th>\n",
       "      <th>wcount</th>\n",
       "    </tr>\n",
       "    <tr>\n",
       "      <th>c</th>\n",
       "      <th></th>\n",
       "      <th></th>\n",
       "      <th></th>\n",
       "      <th></th>\n",
       "    </tr>\n",
       "  </thead>\n",
       "  <tbody>\n",
       "    <tr>\n",
       "      <th>1</th>\n",
       "      <td>3360</td>\n",
       "      <td>80</td>\n",
       "      <td>3240</td>\n",
       "      <td>1503</td>\n",
       "    </tr>\n",
       "    <tr>\n",
       "      <th>2</th>\n",
       "      <td>2184</td>\n",
       "      <td>104</td>\n",
       "      <td>1378</td>\n",
       "      <td>1072</td>\n",
       "    </tr>\n",
       "    <tr>\n",
       "      <th>3</th>\n",
       "      <td>1596</td>\n",
       "      <td>114</td>\n",
       "      <td>741</td>\n",
       "      <td>861</td>\n",
       "    </tr>\n",
       "    <tr>\n",
       "      <th>4</th>\n",
       "      <td>1848</td>\n",
       "      <td>176</td>\n",
       "      <td>990</td>\n",
       "      <td>971</td>\n",
       "    </tr>\n",
       "    <tr>\n",
       "      <th>5</th>\n",
       "      <td>1638</td>\n",
       "      <td>195</td>\n",
       "      <td>780</td>\n",
       "      <td>892</td>\n",
       "    </tr>\n",
       "    <tr>\n",
       "      <th>6</th>\n",
       "      <td>2058</td>\n",
       "      <td>294</td>\n",
       "      <td>1225</td>\n",
       "      <td>1193</td>\n",
       "    </tr>\n",
       "    <tr>\n",
       "      <th>7</th>\n",
       "      <td>2100</td>\n",
       "      <td>350</td>\n",
       "      <td>1275</td>\n",
       "      <td>1144</td>\n",
       "    </tr>\n",
       "    <tr>\n",
       "      <th>8</th>\n",
       "      <td>2352</td>\n",
       "      <td>448</td>\n",
       "      <td>1596</td>\n",
       "      <td>1370</td>\n",
       "    </tr>\n",
       "    <tr>\n",
       "      <th>9</th>\n",
       "      <td>2604</td>\n",
       "      <td>558</td>\n",
       "      <td>1953</td>\n",
       "      <td>1412</td>\n",
       "    </tr>\n",
       "    <tr>\n",
       "      <th>10</th>\n",
       "      <td>1764</td>\n",
       "      <td>420</td>\n",
       "      <td>903</td>\n",
       "      <td>961</td>\n",
       "    </tr>\n",
       "    <tr>\n",
       "      <th>11</th>\n",
       "      <td>2268</td>\n",
       "      <td>594</td>\n",
       "      <td>1485</td>\n",
       "      <td>1301</td>\n",
       "    </tr>\n",
       "    <tr>\n",
       "      <th>12</th>\n",
       "      <td>2478</td>\n",
       "      <td>708</td>\n",
       "      <td>1770</td>\n",
       "      <td>1370</td>\n",
       "    </tr>\n",
       "    <tr>\n",
       "      <th>13</th>\n",
       "      <td>1470</td>\n",
       "      <td>455</td>\n",
       "      <td>630</td>\n",
       "      <td>838</td>\n",
       "    </tr>\n",
       "    <tr>\n",
       "      <th>14</th>\n",
       "      <td>1470</td>\n",
       "      <td>490</td>\n",
       "      <td>630</td>\n",
       "      <td>783</td>\n",
       "    </tr>\n",
       "    <tr>\n",
       "      <th>15</th>\n",
       "      <td>1344</td>\n",
       "      <td>480</td>\n",
       "      <td>528</td>\n",
       "      <td>699</td>\n",
       "    </tr>\n",
       "    <tr>\n",
       "      <th>16</th>\n",
       "      <td>1302</td>\n",
       "      <td>496</td>\n",
       "      <td>496</td>\n",
       "      <td>796</td>\n",
       "    </tr>\n",
       "    <tr>\n",
       "      <th>17</th>\n",
       "      <td>1554</td>\n",
       "      <td>629</td>\n",
       "      <td>703</td>\n",
       "      <td>761</td>\n",
       "    </tr>\n",
       "    <tr>\n",
       "      <th>18</th>\n",
       "      <td>1806</td>\n",
       "      <td>774</td>\n",
       "      <td>946</td>\n",
       "      <td>831</td>\n",
       "    </tr>\n",
       "    <tr>\n",
       "      <th>19</th>\n",
       "      <td>2016</td>\n",
       "      <td>912</td>\n",
       "      <td>1176</td>\n",
       "      <td>993</td>\n",
       "    </tr>\n",
       "    <tr>\n",
       "      <th>20</th>\n",
       "      <td>1974</td>\n",
       "      <td>940</td>\n",
       "      <td>1128</td>\n",
       "      <td>904</td>\n",
       "    </tr>\n",
       "    <tr>\n",
       "      <th>21</th>\n",
       "      <td>1596</td>\n",
       "      <td>798</td>\n",
       "      <td>741</td>\n",
       "      <td>780</td>\n",
       "    </tr>\n",
       "    <tr>\n",
       "      <th>22</th>\n",
       "      <td>2982</td>\n",
       "      <td>1562</td>\n",
       "      <td>2556</td>\n",
       "      <td>1381</td>\n",
       "    </tr>\n",
       "    <tr>\n",
       "      <th>23</th>\n",
       "      <td>2352</td>\n",
       "      <td>1288</td>\n",
       "      <td>1596</td>\n",
       "      <td>1065</td>\n",
       "    </tr>\n",
       "    <tr>\n",
       "      <th>24</th>\n",
       "      <td>2226</td>\n",
       "      <td>1272</td>\n",
       "      <td>1431</td>\n",
       "      <td>995</td>\n",
       "    </tr>\n",
       "  </tbody>\n",
       "</table>\n",
       "</div>"
      ],
      "text/plain": [
       "       b     c     v  wcount\n",
       "c                           \n",
       "1   3360    80  3240    1503\n",
       "2   2184   104  1378    1072\n",
       "3   1596   114   741     861\n",
       "4   1848   176   990     971\n",
       "5   1638   195   780     892\n",
       "6   2058   294  1225    1193\n",
       "7   2100   350  1275    1144\n",
       "8   2352   448  1596    1370\n",
       "9   2604   558  1953    1412\n",
       "10  1764   420   903     961\n",
       "11  2268   594  1485    1301\n",
       "12  2478   708  1770    1370\n",
       "13  1470   455   630     838\n",
       "14  1470   490   630     783\n",
       "15  1344   480   528     699\n",
       "16  1302   496   496     796\n",
       "17  1554   629   703     761\n",
       "18  1806   774   946     831\n",
       "19  2016   912  1176     993\n",
       "20  1974   940  1128     904\n",
       "21  1596   798   741     780\n",
       "22  2982  1562  2556    1381\n",
       "23  2352  1288  1596    1065\n",
       "24  2226  1272  1431     995"
      ]
     },
     "execution_count": 12,
     "metadata": {},
     "output_type": "execute_result"
    }
   ],
   "source": [
    "bible.query('b == 42').groupby(bible.c).sum()"
   ]
  },
  {
   "cell_type": "code",
   "execution_count": 13,
   "metadata": {},
   "outputs": [],
   "source": [
    "long_text = ' '.join(bible.query('b == 42 and c > 14 and c < 16').t.to_list())"
   ]
  },
  {
   "cell_type": "code",
   "execution_count": 14,
   "metadata": {},
   "outputs": [
    {
     "data": {
      "text/plain": [
       "'Now all the tax collectors and sinners were coming close to him to hear him. The Pharisees and the scribes murmured, saying, \"This man welcomes sinners, and eats with them.\" He told them this parable. \"Which of you men, if you had one hundred sheep, and lost one of them, wouldn\\'t leave the ninety-nine in the wilderness, and go after the one that was lost, until he found it? When he has found it, he carries it on his shoulders, rejoicing. When he comes home, he calls together his friends and his neighbors, saying to them, \\'Rejoice with me, for I have found my sheep which was lost!\\' I tell you that even so there will be more joy in heaven over one sinner who repents, than over ninety-nine righteous people who need no repentance. Or what woman, if she had ten drachma{A drachma coin was worth about 2 days wages for an agricultural laborer.} coins, if she lost one drachma coin, wouldn\\'t light a lamp, sweep the house, and seek diligently until she found it? When she has found it, she calls together her friends and neighbors, saying, \\'Rejoice with me, for I have found the drachma which I had lost.\\' Even so, I tell you, there is joy in the presence of the angels of God over one sinner repenting.\" He said, \"A certain man had two sons. The younger of them said to his father, \\'Father, give me my share of your property.\\' He divided his livelihood between them. Not many days after, the younger son gathered all of this together and traveled into a far country. There he wasted his property with riotous living. When he had spent all of it, there arose a severe famine in that country, and he began to be in need. He went and joined himself to one of the citizens of that country, and he sent him into his fields to feed pigs. He wanted to fill his belly with the husks that the pigs ate, but no one gave him any. But when he came to himself he said, \\'How many hired servants of my father\\'s have bread enough to spare, and I\\'m dying with hunger! I will get up and go to my father, and will tell him, \"Father, I have sinned against heaven, and in your sight. I am no more worthy to be called your son. Make me as one of your hired servants.\"\\' \"He arose, and came to his father. But while he was still far off, his father saw him, and was moved with compassion, and ran, and fell on his neck, and kissed him. The son said to him, \\'Father, I have sinned against heaven, and in your sight. I am no longer worthy to be called your son.\\' \"But the father said to his servants, \\'Bring out the best robe, and put it on him. Put a ring on his hand, and shoes on his feet. Bring the fattened calf, kill it, and let us eat, and celebrate; for this, my son, was dead, and is alive again. He was lost, and is found.\\' They began to celebrate. \"Now his elder son was in the field. As he came near to the house, he heard music and dancing. He called one of the servants to him, and asked what was going on. He said to him, \\'Your brother has come, and your father has killed the fattened calf, because he has received him back safe and healthy.\\' But he was angry, and would not go in. Therefore his father came out, and begged him. But he answered his father, \\'Behold, these many years I have served you, and I never disobeyed a commandment of yours, but you never gave me a goat, that I might celebrate with my friends. But when this, your son, came, who has devoured your living with prostitutes, you killed the fattened calf for him.\\' \"He said to him, \\'Son, you are always with me, and all that is mine is yours. But it was appropriate to celebrate and be glad, for this, your brother, was dead, and is alive again. He was lost, and is found.\\'\"'"
      ]
     },
     "execution_count": 14,
     "metadata": {},
     "output_type": "execute_result"
    }
   ],
   "source": [
    "# tokenize without truncation\n",
    "inputs_no_trunc = tokenizer(long_text, max_length=None, return_tensors='pt', truncation=False)\n",
    "long_text"
   ]
  },
  {
   "cell_type": "code",
   "execution_count": 15,
   "metadata": {},
   "outputs": [
    {
     "data": {
      "text/plain": [
       "(torch.Size([891]), 699)"
      ]
     },
     "execution_count": 15,
     "metadata": {},
     "output_type": "execute_result"
    }
   ],
   "source": [
    "inputs_no_trunc['input_ids'][0].shape, len(long_text.split(' '))"
   ]
  },
  {
   "cell_type": "code",
   "execution_count": 16,
   "metadata": {},
   "outputs": [],
   "source": [
    "# get batches of tokens corresponding to the exact model_max_length\n",
    "chunk_start = 0\n",
    "chunk_end = tokenizer.model_max_length  # == 1024 for Bart\n",
    "inputs_batch_lst = []\n",
    "while chunk_start <= len(inputs_no_trunc['input_ids'][0]):\n",
    "    inputs_batch = inputs_no_trunc['input_ids'][0][chunk_start:chunk_end]  # get batch of n tokens\n",
    "    inputs_batch = torch.unsqueeze(inputs_batch, 0)\n",
    "    inputs_batch_lst.append(inputs_batch)\n",
    "    chunk_start += tokenizer.model_max_length  # == 1024 for Bart\n",
    "    chunk_end += tokenizer.model_max_length  # == 1024 for Bart"
   ]
  },
  {
   "cell_type": "code",
   "execution_count": 17,
   "metadata": {},
   "outputs": [],
   "source": [
    "inputs_batch_lst = [x.to(cuda) for x in inputs_batch_lst]"
   ]
  },
  {
   "cell_type": "code",
   "execution_count": 35,
   "metadata": {},
   "outputs": [],
   "source": [
    "# # generate a summary on each batch\n",
    "summary_ids_lst = [model.generate(inputs, num_beams=5, min_length=130,\n",
    "                                 max_length=1050, early_stopping=True) for inputs in inputs_batch_lst]\n",
    "\n",
    "# summary_ids_lst = [model.generate(inputs, \n",
    "#                     do_sample=True, \n",
    "#                     max_length=150, \n",
    "#                     top_p=0.92, \n",
    "#                     top_k=50,   \n",
    "#                     num_return_sequences=3) \n",
    "#                    for inputs in inputs_batch_lst]"
   ]
  },
  {
   "cell_type": "code",
   "execution_count": 36,
   "metadata": {},
   "outputs": [
    {
     "name": "stdout",
     "output_type": "stream",
     "text": [
      "The Pharisees and the scribes murmured, saying, \"This man welcomes sinners, and eats with them.\" He told them this parable. \"Which of you men, if you had one hundred sheep, and lost one of them, wouldn't leave the ninety-nine in the wilderness, and go after the one that was lost, until he found it? When he has found it, he carries it on his shoulders, rejoicing,\" he said. \"Even so, I tell you, there is joy in the presence of the angels of God over one sinner repenting,\" he added. \"It was appropriate to celebrate and be glad, for this, your brother was dead, and is alive again,\" Jesus said.\n"
     ]
    }
   ],
   "source": [
    "# decode the output and join into one string with one paragraph per summary batch\n",
    "summary_batch_lst = []\n",
    "for summary_id in summary_ids_lst:\n",
    "    summary_batch = [tokenizer.decode(g, skip_special_tokens=True, clean_up_tokenization_spaces=False) for g in summary_id]\n",
    "    summary_batch_lst.append(summary_batch[0])\n",
    "summary_all = '\\n'.join(summary_batch_lst)\n",
    "\n",
    "print(summary_all)"
   ]
  },
  {
   "cell_type": "code",
   "execution_count": null,
   "metadata": {},
   "outputs": [],
   "source": []
  }
 ],
 "metadata": {
  "kernelspec": {
   "display_name": "py310",
   "language": "python",
   "name": "py310"
  },
  "language_info": {
   "codemirror_mode": {
    "name": "ipython",
    "version": 3
   },
   "file_extension": ".py",
   "mimetype": "text/x-python",
   "name": "python",
   "nbconvert_exporter": "python",
   "pygments_lexer": "ipython3",
   "version": "3.10.6"
  },
  "orig_nbformat": 4,
  "vscode": {
   "interpreter": {
    "hash": "92753a12d6cfe64b76815d84e47f16f76775fd2abfadaee44cd33f1068a14569"
   }
  }
 },
 "nbformat": 4,
 "nbformat_minor": 2
}
