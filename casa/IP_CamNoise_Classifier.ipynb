{
 "cells": [
  {
   "cell_type": "code",
   "execution_count": 496,
   "metadata": {},
   "outputs": [
    {
     "name": "stdout",
     "output_type": "stream",
     "text": [
      "C:\\Users\\andre\\Projects\\rtsp\\for_labelling\n"
     ]
    }
   ],
   "source": [
    "cd C:\\Users\\andre\\Projects\\rtsp\\for_labelling"
   ]
  },
  {
   "cell_type": "code",
   "execution_count": 497,
   "metadata": {},
   "outputs": [],
   "source": [
    "import tensorflow as tf"
   ]
  },
  {
   "cell_type": "code",
   "execution_count": 498,
   "metadata": {},
   "outputs": [
    {
     "data": {
      "text/plain": [
       "[PhysicalDevice(name='/physical_device:GPU:0', device_type='GPU')]"
      ]
     },
     "execution_count": 498,
     "metadata": {},
     "output_type": "execute_result"
    }
   ],
   "source": [
    "tf.config.list_physical_devices('GPU')"
   ]
  },
  {
   "cell_type": "code",
   "execution_count": 499,
   "metadata": {},
   "outputs": [],
   "source": [
    "import glob\n",
    "import matplotlib.image as mpimg\n",
    "import matplotlib.pyplot as plt\n",
    "import shutil\n",
    "import numpy as np\n",
    "import pandas as pd"
   ]
  },
  {
   "cell_type": "code",
   "execution_count": 500,
   "metadata": {},
   "outputs": [],
   "source": [
    "path_images = glob.glob('*')"
   ]
  },
  {
   "cell_type": "code",
   "execution_count": 501,
   "metadata": {},
   "outputs": [
    {
     "name": "stdout",
     "output_type": "stream",
     "text": [
      "C:\\Users\\andre\\Projects\\rtsp\\for_labelling\\output\n"
     ]
    }
   ],
   "source": [
    "cd output"
   ]
  },
  {
   "cell_type": "code",
   "execution_count": 502,
   "metadata": {},
   "outputs": [],
   "source": [
    "labelled = pd.read_csv('assigned_classes_automatically_generated.csv')"
   ]
  },
  {
   "cell_type": "code",
   "execution_count": 503,
   "metadata": {},
   "outputs": [],
   "source": [
    "labelled['w'] = np.nan\n",
    "labelled['h'] = np.nan\n",
    "labelled['aspect'] = np.nan\n",
    "for i, row in labelled.iterrows():\n",
    "    w, h = list(map(int, row['img'].replace('h', '').replace('w', '').split('_')[-3:-1]))\n",
    "    asp = h/w\n",
    "    labelled.iloc[i, -3] = w  # w\n",
    "    labelled.iloc[i, -2] = h  # h\n",
    "    labelled.iloc[i, -1] = asp  # aspect"
   ]
  },
  {
   "cell_type": "code",
   "execution_count": 504,
   "metadata": {},
   "outputs": [
    {
     "data": {
      "text/plain": [
       "discard\n",
       "not_aceptable_size_aspect_cam_noise\n",
       "aceptable_size_aspects_NOT_valid_being\n",
       "aceptable_size_aspects_YES_valid_being"
      ]
     },
     "metadata": {},
     "output_type": "display_data"
    }
   ],
   "source": [
    "more ../../labels.txt"
   ]
  },
  {
   "cell_type": "code",
   "execution_count": 505,
   "metadata": {},
   "outputs": [
    {
     "data": {
      "text/plain": [
       "array([0.08472876, 0.35974974, 0.74222718])"
      ]
     },
     "execution_count": 505,
     "metadata": {},
     "output_type": "execute_result"
    }
   ],
   "source": [
    "notacceptable = labelled[labelled['not_aceptable_size_aspect_cam_noise'] == 1]['aspect']\n",
    "np.percentile(notacceptable, [10, 50, 90])"
   ]
  },
  {
   "cell_type": "code",
   "execution_count": 506,
   "metadata": {},
   "outputs": [],
   "source": [
    "acceptable = labelled[labelled['not_aceptable_size_aspect_cam_noise'] != 1]['aspect']"
   ]
  },
  {
   "cell_type": "code",
   "execution_count": 507,
   "metadata": {},
   "outputs": [
    {
     "data": {
      "text/plain": [
       "array([0.43340884, 1.        , 2.68551913])"
      ]
     },
     "execution_count": 507,
     "metadata": {},
     "output_type": "execute_result"
    }
   ],
   "source": [
    "np.percentile(acceptable, [5, 50, 90])"
   ]
  },
  {
   "cell_type": "code",
   "execution_count": 508,
   "metadata": {},
   "outputs": [],
   "source": [
    "X = labelled[['w', 'h', 'aspect']].to_numpy()"
   ]
  },
  {
   "cell_type": "code",
   "execution_count": 509,
   "metadata": {},
   "outputs": [],
   "source": [
    "y = labelled['not_aceptable_size_aspect_cam_noise'].to_numpy()"
   ]
  },
  {
   "cell_type": "code",
   "execution_count": 510,
   "metadata": {},
   "outputs": [
    {
     "data": {
      "text/plain": [
       "219"
      ]
     },
     "execution_count": 510,
     "metadata": {},
     "output_type": "execute_result"
    }
   ],
   "source": [
    "len(X)"
   ]
  },
  {
   "cell_type": "code",
   "execution_count": 511,
   "metadata": {},
   "outputs": [],
   "source": [
    "X_t, y_t = X[:100], y[:100]"
   ]
  },
  {
   "cell_type": "markdown",
   "metadata": {},
   "source": [
    "## Noise Classifier - sklearn"
   ]
  },
  {
   "cell_type": "code",
   "execution_count": 512,
   "metadata": {},
   "outputs": [],
   "source": [
    "from sklearn.ensemble import ExtraTreesClassifier, RandomForestClassifier"
   ]
  },
  {
   "cell_type": "code",
   "execution_count": 513,
   "metadata": {},
   "outputs": [],
   "source": [
    "etree = ExtraTreesClassifier()\n",
    "etree = RandomForestClassifier(verbose=True)"
   ]
  },
  {
   "cell_type": "code",
   "execution_count": 514,
   "metadata": {},
   "outputs": [
    {
     "name": "stderr",
     "output_type": "stream",
     "text": [
      "[Parallel(n_jobs=1)]: Using backend SequentialBackend with 1 concurrent workers.\n",
      "[Parallel(n_jobs=1)]: Done 100 out of 100 | elapsed:    0.0s finished\n"
     ]
    },
    {
     "data": {
      "text/plain": [
       "RandomForestClassifier(verbose=True)"
      ]
     },
     "execution_count": 514,
     "metadata": {},
     "output_type": "execute_result"
    }
   ],
   "source": [
    "etree.fit(X_t, y_t)"
   ]
  },
  {
   "cell_type": "code",
   "execution_count": 515,
   "metadata": {},
   "outputs": [
    {
     "name": "stderr",
     "output_type": "stream",
     "text": [
      "[Parallel(n_jobs=1)]: Using backend SequentialBackend with 1 concurrent workers.\n",
      "[Parallel(n_jobs=1)]: Done 100 out of 100 | elapsed:    0.0s finished\n"
     ]
    },
    {
     "data": {
      "text/plain": [
       "0.9663865546218487"
      ]
     },
     "execution_count": 515,
     "metadata": {},
     "output_type": "execute_result"
    }
   ],
   "source": [
    "etree.score(X[100:], y[100:])"
   ]
  },
  {
   "cell_type": "code",
   "execution_count": 516,
   "metadata": {},
   "outputs": [
    {
     "data": {
      "text/plain": [
       "array([0.4570906 , 0.19035907, 0.35255033])"
      ]
     },
     "execution_count": 516,
     "metadata": {},
     "output_type": "execute_result"
    }
   ],
   "source": [
    "etree.feature_importances_"
   ]
  },
  {
   "cell_type": "markdown",
   "metadata": {},
   "source": [
    "Not Noise - even very vertical"
   ]
  },
  {
   "cell_type": "code",
   "execution_count": 517,
   "metadata": {},
   "outputs": [
    {
     "name": "stdout",
     "output_type": "stream",
     "text": [
      "[[100.0, 800.0, 8.0]]\n",
      "Wall time: 17 ms\n"
     ]
    },
    {
     "name": "stderr",
     "output_type": "stream",
     "text": [
      "[Parallel(n_jobs=1)]: Using backend SequentialBackend with 1 concurrent workers.\n",
      "[Parallel(n_jobs=1)]: Done 100 out of 100 | elapsed:    0.0s finished\n"
     ]
    },
    {
     "data": {
      "text/plain": [
       "array([[0.81, 0.19]])"
      ]
     },
     "execution_count": 517,
     "metadata": {},
     "output_type": "execute_result"
    }
   ],
   "source": [
    "%%time\n",
    "Xs = [[100., 800., 800./100.]]\n",
    "print(Xs)\n",
    "etree.predict_proba(Xs)"
   ]
  },
  {
   "cell_type": "markdown",
   "metadata": {},
   "source": [
    "Noise - very horizontal"
   ]
  },
  {
   "cell_type": "code",
   "execution_count": 518,
   "metadata": {},
   "outputs": [
    {
     "name": "stdout",
     "output_type": "stream",
     "text": [
      "[[900.0, 150.0, 0.16666666666666666]]\n"
     ]
    },
    {
     "name": "stderr",
     "output_type": "stream",
     "text": [
      "[Parallel(n_jobs=1)]: Using backend SequentialBackend with 1 concurrent workers.\n",
      "[Parallel(n_jobs=1)]: Done 100 out of 100 | elapsed:    0.0s finished\n"
     ]
    },
    {
     "data": {
      "text/plain": [
       "array([[0.27, 0.73]])"
      ]
     },
     "execution_count": 518,
     "metadata": {},
     "output_type": "execute_result"
    }
   ],
   "source": [
    "Xs = [[900., 150., 150./900.]]\n",
    "print(Xs)\n",
    "etree.predict_proba(Xs)"
   ]
  },
  {
   "cell_type": "code",
   "execution_count": 519,
   "metadata": {},
   "outputs": [
    {
     "data": {
      "text/plain": [
       "array([0, 1], dtype=int64)"
      ]
     },
     "execution_count": 519,
     "metadata": {},
     "output_type": "execute_result"
    }
   ],
   "source": [
    "etree.classes_"
   ]
  },
  {
   "cell_type": "code",
   "execution_count": 520,
   "metadata": {},
   "outputs": [
    {
     "data": {
      "text/plain": [
       "['pcam_noise_rf.joblib']"
      ]
     },
     "execution_count": 520,
     "metadata": {},
     "output_type": "execute_result"
    }
   ],
   "source": [
    "import joblib\n",
    "\n",
    "joblib.dump(etree, \"pcam_noise_rf.joblib\")"
   ]
  },
  {
   "cell_type": "markdown",
   "metadata": {},
   "source": [
    "## Noise Classifier - tensorflow"
   ]
  },
  {
   "cell_type": "code",
   "execution_count": 538,
   "metadata": {},
   "outputs": [],
   "source": [
    "import tensorflow  as tf\n",
    "from tensorflow.keras.callbacks import EarlyStopping"
   ]
  },
  {
   "cell_type": "code",
   "execution_count": 647,
   "metadata": {},
   "outputs": [
    {
     "data": {
      "text/plain": [
       "((219, 3), (219,))"
      ]
     },
     "execution_count": 647,
     "metadata": {},
     "output_type": "execute_result"
    }
   ],
   "source": [
    "X.shape, y.shape"
   ]
  },
  {
   "cell_type": "code",
   "execution_count": 648,
   "metadata": {},
   "outputs": [],
   "source": [
    "ixs = numpy.random.randint(len(X), size=len(X))"
   ]
  },
  {
   "cell_type": "code",
   "execution_count": 649,
   "metadata": {},
   "outputs": [],
   "source": [
    "X = X[ixs]\n",
    "y = y[ixs]"
   ]
  },
  {
   "cell_type": "code",
   "execution_count": 1044,
   "metadata": {},
   "outputs": [],
   "source": [
    "model = tf.keras.Sequential([\n",
    "    tf.keras.layers.Flatten(input_shape=(3, 1)),\n",
    "    tf.keras.layers.Dense(300, activation='sigmoid'),         \n",
    "    tf.keras.layers.Dropout(0.3),    \n",
    "    tf.keras.layers.Dense(50, activation='sigmoid'),             \n",
    "    tf.keras.layers.Dense(1, activation='sigmoid'),                   \n",
    "])"
   ]
  },
  {
   "cell_type": "code",
   "execution_count": 1045,
   "metadata": {},
   "outputs": [],
   "source": [
    "#ErlyStopping?"
   ]
  },
  {
   "cell_type": "code",
   "execution_count": 1046,
   "metadata": {},
   "outputs": [],
   "source": [
    "early_stopping = EarlyStopping('val_loss', 0.005, patience=30, verbose=2, restore_best_weights=True)"
   ]
  },
  {
   "cell_type": "code",
   "execution_count": 1047,
   "metadata": {},
   "outputs": [],
   "source": [
    "model.compile(optimizer='adam',\n",
    "               loss=tf.keras.losses.BinaryCrossentropy(),\n",
    "              metrics=['accuracy'])"
   ]
  },
  {
   "cell_type": "code",
   "execution_count": 1048,
   "metadata": {},
   "outputs": [],
   "source": [
    "model.reset_states()"
   ]
  },
  {
   "cell_type": "code",
   "execution_count": 1055,
   "metadata": {},
   "outputs": [
    {
     "name": "stdout",
     "output_type": "stream",
     "text": [
      "Epoch 1/1000\n",
      "2/2 [==============================] - 0s 112ms/step - loss: 0.2065 - accuracy: 0.9200 - val_loss: 0.2297 - val_accuracy: 0.8739\n",
      "Epoch 2/1000\n",
      "2/2 [==============================] - 0s 50ms/step - loss: 0.2121 - accuracy: 0.9300 - val_loss: 0.2370 - val_accuracy: 0.8908\n",
      "Epoch 3/1000\n",
      "2/2 [==============================] - 0s 54ms/step - loss: 0.2169 - accuracy: 0.9100 - val_loss: 0.2328 - val_accuracy: 0.8739\n",
      "Epoch 4/1000\n",
      "2/2 [==============================] - 0s 53ms/step - loss: 0.2165 - accuracy: 0.9400 - val_loss: 0.2201 - val_accuracy: 0.9160\n",
      "Epoch 5/1000\n",
      "2/2 [==============================] - 0s 50ms/step - loss: 0.1904 - accuracy: 0.9300 - val_loss: 0.2211 - val_accuracy: 0.9496\n",
      "Epoch 6/1000\n",
      "2/2 [==============================] - 0s 56ms/step - loss: 0.2207 - accuracy: 0.9600 - val_loss: 0.2183 - val_accuracy: 0.9160\n",
      "Epoch 7/1000\n",
      "2/2 [==============================] - 0s 53ms/step - loss: 0.2343 - accuracy: 0.9200 - val_loss: 0.2197 - val_accuracy: 0.8908\n",
      "Epoch 8/1000\n",
      "2/2 [==============================] - 0s 52ms/step - loss: 0.2534 - accuracy: 0.9000 - val_loss: 0.2178 - val_accuracy: 0.8908\n",
      "Epoch 9/1000\n",
      "2/2 [==============================] - 0s 57ms/step - loss: 0.2026 - accuracy: 0.9000 - val_loss: 0.2177 - val_accuracy: 0.9160\n",
      "Epoch 10/1000\n",
      "2/2 [==============================] - 0s 54ms/step - loss: 0.1963 - accuracy: 0.9300 - val_loss: 0.2178 - val_accuracy: 0.8908\n",
      "Epoch 11/1000\n",
      "2/2 [==============================] - 0s 54ms/step - loss: 0.1968 - accuracy: 0.9400 - val_loss: 0.2162 - val_accuracy: 0.8908\n",
      "Epoch 12/1000\n",
      "2/2 [==============================] - 0s 56ms/step - loss: 0.1909 - accuracy: 0.9400 - val_loss: 0.2127 - val_accuracy: 0.9160\n",
      "Epoch 13/1000\n",
      "2/2 [==============================] - 0s 55ms/step - loss: 0.1816 - accuracy: 0.9400 - val_loss: 0.2105 - val_accuracy: 0.9160\n",
      "Epoch 14/1000\n",
      "2/2 [==============================] - 0s 56ms/step - loss: 0.1770 - accuracy: 0.9600 - val_loss: 0.2101 - val_accuracy: 0.9160\n",
      "Epoch 15/1000\n",
      "2/2 [==============================] - 0s 56ms/step - loss: 0.1803 - accuracy: 0.9600 - val_loss: 0.2147 - val_accuracy: 0.9496\n",
      "Epoch 16/1000\n",
      "2/2 [==============================] - 0s 56ms/step - loss: 0.2075 - accuracy: 0.9400 - val_loss: 0.2137 - val_accuracy: 0.8992\n",
      "Epoch 17/1000\n",
      "2/2 [==============================] - 0s 54ms/step - loss: 0.2309 - accuracy: 0.8700 - val_loss: 0.2245 - val_accuracy: 0.8739\n",
      "Epoch 18/1000\n",
      "2/2 [==============================] - 0s 55ms/step - loss: 0.2356 - accuracy: 0.9000 - val_loss: 0.2165 - val_accuracy: 0.8992\n",
      "Epoch 19/1000\n",
      "2/2 [==============================] - 0s 54ms/step - loss: 0.2044 - accuracy: 0.9200 - val_loss: 0.2254 - val_accuracy: 0.9496\n",
      "Epoch 20/1000\n",
      "2/2 [==============================] - 0s 65ms/step - loss: 0.2094 - accuracy: 0.9700 - val_loss: 0.2126 - val_accuracy: 0.8992\n",
      "Epoch 21/1000\n",
      "2/2 [==============================] - 0s 60ms/step - loss: 0.2216 - accuracy: 0.9100 - val_loss: 0.2148 - val_accuracy: 0.8908\n",
      "Epoch 22/1000\n",
      "2/2 [==============================] - 0s 52ms/step - loss: 0.2265 - accuracy: 0.9300 - val_loss: 0.2236 - val_accuracy: 0.9496\n",
      "Epoch 23/1000\n",
      "2/2 [==============================] - 0s 55ms/step - loss: 0.2206 - accuracy: 0.9100 - val_loss: 0.2125 - val_accuracy: 0.9244\n",
      "Epoch 24/1000\n",
      "2/2 [==============================] - 0s 57ms/step - loss: 0.2172 - accuracy: 0.9400 - val_loss: 0.2144 - val_accuracy: 0.8908\n",
      "Epoch 25/1000\n",
      "2/2 [==============================] - 0s 56ms/step - loss: 0.1753 - accuracy: 0.9400 - val_loss: 0.2401 - val_accuracy: 0.8908\n",
      "Epoch 26/1000\n",
      "2/2 [==============================] - 0s 55ms/step - loss: 0.2206 - accuracy: 0.8700 - val_loss: 0.2202 - val_accuracy: 0.9160\n",
      "Epoch 27/1000\n",
      "2/2 [==============================] - 0s 56ms/step - loss: 0.2237 - accuracy: 0.9600 - val_loss: 0.2291 - val_accuracy: 0.9496\n",
      "Epoch 28/1000\n",
      "2/2 [==============================] - 0s 58ms/step - loss: 0.1905 - accuracy: 0.9500 - val_loss: 0.2221 - val_accuracy: 0.8739\n",
      "Epoch 29/1000\n",
      "2/2 [==============================] - 0s 55ms/step - loss: 0.2149 - accuracy: 0.9000 - val_loss: 0.2279 - val_accuracy: 0.8739\n",
      "Epoch 30/1000\n",
      "2/2 [==============================] - 0s 56ms/step - loss: 0.2389 - accuracy: 0.9000 - val_loss: 0.2276 - val_accuracy: 0.9496\n",
      "Epoch 31/1000\n",
      "2/2 [==============================] - 0s 54ms/step - loss: 0.2279 - accuracy: 0.9500 - val_loss: 0.2159 - val_accuracy: 0.9160\n",
      "Epoch 32/1000\n",
      "2/2 [==============================] - 0s 62ms/step - loss: 0.1922 - accuracy: 0.9200 - val_loss: 0.2187 - val_accuracy: 0.8824\n",
      "Epoch 33/1000\n",
      "2/2 [==============================] - 0s 55ms/step - loss: 0.1987 - accuracy: 0.9200 - val_loss: 0.2316 - val_accuracy: 0.9244\n",
      "Epoch 34/1000\n",
      "2/2 [==============================] - 0s 56ms/step - loss: 0.2097 - accuracy: 0.9500 - val_loss: 0.2289 - val_accuracy: 0.9160\n",
      "Epoch 35/1000\n",
      "2/2 [==============================] - 0s 62ms/step - loss: 0.2111 - accuracy: 0.9600 - val_loss: 0.2207 - val_accuracy: 0.8824\n",
      "Epoch 36/1000\n",
      "2/2 [==============================] - 0s 58ms/step - loss: 0.1803 - accuracy: 0.9500 - val_loss: 0.2197 - val_accuracy: 0.8992\n",
      "Epoch 37/1000\n",
      "2/2 [==============================] - 0s 57ms/step - loss: 0.2094 - accuracy: 0.9200 - val_loss: 0.2228 - val_accuracy: 0.9160\n",
      "Epoch 38/1000\n",
      "2/2 [==============================] - 0s 56ms/step - loss: 0.2192 - accuracy: 0.9200 - val_loss: 0.2286 - val_accuracy: 0.9244\n",
      "Epoch 39/1000\n",
      "2/2 [==============================] - 0s 55ms/step - loss: 0.2485 - accuracy: 0.9100 - val_loss: 0.2222 - val_accuracy: 0.8908\n",
      "Epoch 40/1000\n",
      "2/2 [==============================] - 0s 58ms/step - loss: 0.2145 - accuracy: 0.9100 - val_loss: 0.2605 - val_accuracy: 0.8908\n",
      "Epoch 41/1000\n",
      "2/2 [==============================] - 0s 56ms/step - loss: 0.2118 - accuracy: 0.8900 - val_loss: 0.2321 - val_accuracy: 0.8739\n",
      "Epoch 42/1000\n",
      "2/2 [==============================] - 0s 55ms/step - loss: 0.2404 - accuracy: 0.9300 - val_loss: 0.2473 - val_accuracy: 0.9160\n",
      "Restoring model weights from the end of the best epoch.\n",
      "Epoch 00042: early stopping\n"
     ]
    },
    {
     "data": {
      "text/plain": [
       "<tensorflow.python.keras.callbacks.History at 0x21b335d3340>"
      ]
     },
     "execution_count": 1055,
     "metadata": {},
     "output_type": "execute_result"
    }
   ],
   "source": [
    "model.fit(X[:100], y[:100], validation_data=(X[100:], y[100:]), batch_size=80, epochs=1000, verbose=1,\n",
    "          callbacks=[early_stopping])#, validation_split=0.5)"
   ]
  },
  {
   "cell_type": "code",
   "execution_count": 1058,
   "metadata": {},
   "outputs": [
    {
     "name": "stdout",
     "output_type": "stream",
     "text": [
      "4/4 [==============================] - 0s 5ms/step - loss: 0.2127 - accuracy: 0.9160\n"
     ]
    },
    {
     "data": {
      "text/plain": [
       "[0.2127009630203247, 0.9159663915634155]"
      ]
     },
     "execution_count": 1058,
     "metadata": {},
     "output_type": "execute_result"
    }
   ],
   "source": [
    "model.evaluate(X[100:], y[100:])"
   ]
  },
  {
   "cell_type": "code",
   "execution_count": 1059,
   "metadata": {},
   "outputs": [
    {
     "name": "stdout",
     "output_type": "stream",
     "text": [
      "7/7 [==============================] - 0s 4ms/step - loss: 0.1947 - accuracy: 0.9315\n"
     ]
    },
    {
     "data": {
      "text/plain": [
       "[0.1946951001882553, 0.931506872177124]"
      ]
     },
     "execution_count": 1059,
     "metadata": {},
     "output_type": "execute_result"
    }
   ],
   "source": [
    "model.evaluate(X, y)"
   ]
  },
  {
   "cell_type": "code",
   "execution_count": 1060,
   "metadata": {},
   "outputs": [
    {
     "data": {
      "text/plain": [
       "6"
      ]
     },
     "execution_count": 1060,
     "metadata": {},
     "output_type": "execute_result"
    }
   ],
   "source": [
    "len(model.weights)"
   ]
  },
  {
   "cell_type": "code",
   "execution_count": 1061,
   "metadata": {},
   "outputs": [
    {
     "data": {
      "text/plain": [
       "TensorShape([3, 300])"
      ]
     },
     "execution_count": 1061,
     "metadata": {},
     "output_type": "execute_result"
    }
   ],
   "source": [
    "model.weights[0].shape"
   ]
  },
  {
   "cell_type": "code",
   "execution_count": 1062,
   "metadata": {},
   "outputs": [
    {
     "data": {
      "text/plain": [
       "TensorShape([300])"
      ]
     },
     "execution_count": 1062,
     "metadata": {},
     "output_type": "execute_result"
    }
   ],
   "source": [
    "model.weights[1].shape"
   ]
  },
  {
   "cell_type": "code",
   "execution_count": 1063,
   "metadata": {},
   "outputs": [
    {
     "data": {
      "text/plain": [
       "TensorShape([300, 50])"
      ]
     },
     "execution_count": 1063,
     "metadata": {},
     "output_type": "execute_result"
    }
   ],
   "source": [
    "model.weights[2].shape"
   ]
  },
  {
   "cell_type": "code",
   "execution_count": 1064,
   "metadata": {},
   "outputs": [
    {
     "data": {
      "text/plain": [
       "TensorShape([50])"
      ]
     },
     "execution_count": 1064,
     "metadata": {},
     "output_type": "execute_result"
    }
   ],
   "source": [
    "model.weights[3].shape"
   ]
  },
  {
   "cell_type": "code",
   "execution_count": 1065,
   "metadata": {},
   "outputs": [
    {
     "data": {
      "text/plain": [
       "TensorShape([50, 1])"
      ]
     },
     "execution_count": 1065,
     "metadata": {},
     "output_type": "execute_result"
    }
   ],
   "source": [
    "model.weights[4].shape"
   ]
  },
  {
   "cell_type": "code",
   "execution_count": 1066,
   "metadata": {},
   "outputs": [
    {
     "data": {
      "text/plain": [
       "<tf.Variable 'dense_407/bias:0' shape=(1,) dtype=float32, numpy=array([-0.01720193], dtype=float32)>"
      ]
     },
     "execution_count": 1066,
     "metadata": {},
     "output_type": "execute_result"
    }
   ],
   "source": [
    "model.weights[5]"
   ]
  },
  {
   "cell_type": "code",
   "execution_count": 1067,
   "metadata": {},
   "outputs": [
    {
     "data": {
      "text/plain": [
       "'C:\\\\Users\\\\andre\\\\Projects\\\\rtsp\\\\for_labelling\\\\output'"
      ]
     },
     "execution_count": 1067,
     "metadata": {},
     "output_type": "execute_result"
    }
   ],
   "source": [
    "pwd"
   ]
  },
  {
   "cell_type": "code",
   "execution_count": 1070,
   "metadata": {},
   "outputs": [
    {
     "name": "stdout",
     "output_type": "stream",
     "text": [
      "INFO:tensorflow:Assets written to: C:\\Users\\andre\\AppData\\Local\\Temp\\tmptpa2hznp\\assets\n"
     ]
    }
   ],
   "source": [
    "converter = tf.lite.TFLiteConverter.from_keras_model(model)\n",
    "tflite_model = converter.convert()"
   ]
  },
  {
   "cell_type": "code",
   "execution_count": 1072,
   "metadata": {},
   "outputs": [
    {
     "data": {
      "text/plain": [
       "67556"
      ]
     },
     "execution_count": 1072,
     "metadata": {},
     "output_type": "execute_result"
    }
   ],
   "source": [
    "len(tflite_model)"
   ]
  },
  {
   "cell_type": "code",
   "execution_count": 1073,
   "metadata": {},
   "outputs": [],
   "source": [
    "with open('model.tflite', 'wb') as f:\n",
    "  f.write(tflite_model)"
   ]
  },
  {
   "cell_type": "code",
   "execution_count": null,
   "metadata": {},
   "outputs": [],
   "source": []
  }
 ],
 "metadata": {
  "kernelspec": {
   "display_name": "tf-gpu",
   "language": "python",
   "name": "tf-gpu"
  },
  "language_info": {
   "codemirror_mode": {
    "name": "ipython",
    "version": 3
   },
   "file_extension": ".py",
   "mimetype": "text/x-python",
   "name": "python",
   "nbconvert_exporter": "python",
   "pygments_lexer": "ipython3",
   "version": "3.8.8"
  }
 },
 "nbformat": 4,
 "nbformat_minor": 4
}
